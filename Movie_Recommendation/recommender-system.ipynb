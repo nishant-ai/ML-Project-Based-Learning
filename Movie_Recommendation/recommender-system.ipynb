{
 "cells": [
  {
   "cell_type": "markdown",
   "id": "a21fce7d",
   "metadata": {},
   "source": [
    "## Recommendation System:\n",
    "\n",
    "**Type1:**  Content Based - On basis of content similarity : recommends => *Tags are created in this system*\n",
    "\n",
    "**Type2:**  Collaborative Filtering - On basis of User Interest : recommends => *If User A and B show similarity, A's list items can be recommended to B.*\n",
    "\n",
    "**Type3:**  Hybrid - *Uses both cases* : Used in Big Companies nowadays."
   ]
  },
  {
   "cell_type": "code",
   "execution_count": null,
   "id": "5208a81c",
   "metadata": {},
   "outputs": [],
   "source": []
  }
 ],
 "metadata": {
  "kernelspec": {
   "display_name": "Python 3 (ipykernel)",
   "language": "python",
   "name": "python3"
  },
  "language_info": {
   "codemirror_mode": {
    "name": "ipython",
    "version": 3
   },
   "file_extension": ".py",
   "mimetype": "text/x-python",
   "name": "python",
   "nbconvert_exporter": "python",
   "pygments_lexer": "ipython3",
   "version": "3.9.6"
  }
 },
 "nbformat": 4,
 "nbformat_minor": 5
}
